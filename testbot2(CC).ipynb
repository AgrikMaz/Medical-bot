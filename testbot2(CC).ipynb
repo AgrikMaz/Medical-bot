{
 "cells": [
  {
   "cell_type": "code",
   "execution_count": 1,
   "metadata": {},
   "outputs": [
    {
     "name": "stderr",
     "output_type": "stream",
     "text": [
      "c:\\Users\\Aneel\\OneDrive\\Projects\\Python-projects\\Medbot\\medbot\\Lib\\site-packages\\tqdm\\auto.py:21: TqdmWarning: IProgress not found. Please update jupyter and ipywidgets. See https://ipywidgets.readthedocs.io/en/stable/user_install.html\n",
      "  from .autonotebook import tqdm as notebook_tqdm\n"
     ]
    }
   ],
   "source": [
    "from langchain_chroma import Chroma\n",
    "from langchain_community.embeddings.fastembed import FastEmbedEmbeddings\n",
    "from langchain_community.document_loaders import PyPDFLoader\n",
    "from langchain.text_splitter import RecursiveCharacterTextSplitter\n",
    "from langchain.retrievers import ContextualCompressionRetriever\n",
    "from langchain.retrievers.document_compressors import LLMChainExtractor\n",
    "from langchain.prompts import PromptTemplate\n",
    "from langchain_google_genai.llms import GoogleGenerativeAI\n",
    "from langchain.chains import LLMChain\n",
    "from api_key import GOOGLE_API_KEY"
   ]
  },
  {
   "cell_type": "code",
   "execution_count": 2,
   "metadata": {},
   "outputs": [],
   "source": [
    "config = {'max_new_tokens': 512, 'temperature': 0.8}\n",
    "llm = GoogleGenerativeAI(model=\"gemini-pro\", google_api_key=GOOGLE_API_KEY, config=config)\n"
   ]
  },
  {
   "cell_type": "code",
   "execution_count": 3,
   "metadata": {},
   "outputs": [
    {
     "name": "stdout",
     "output_type": "stream",
     "text": [
      "759\n"
     ]
    }
   ],
   "source": [
    "pdf = \"docs\\medical_book.pdf\"\n",
    "loader = PyPDFLoader(pdf)\n",
    "loaded_data = loader.load()\n",
    "print(len(loaded_data))"
   ]
  },
  {
   "cell_type": "code",
   "execution_count": 4,
   "metadata": {},
   "outputs": [
    {
     "name": "stdout",
     "output_type": "stream",
     "text": [
      "Your document has been split into 1235 chunks\n"
     ]
    }
   ],
   "source": [
    "text_splitter = RecursiveCharacterTextSplitter(chunk_size=4000, chunk_overlap=200)\n",
    "chunks = text_splitter.split_documents(loaded_data)\n",
    "print (f\"Your document has been split into {len(chunks)} chunks\")\n"
   ]
  },
  {
   "cell_type": "code",
   "execution_count": 5,
   "metadata": {},
   "outputs": [
    {
     "name": "stderr",
     "output_type": "stream",
     "text": [
      "Fetching 5 files: 100%|██████████| 5/5 [00:00<?, ?it/s]\n"
     ]
    }
   ],
   "source": [
    "vectordb = Chroma.from_documents(documents=chunks, embedding=FastEmbedEmbeddings(), persist_directory=\"db_CC\")\n",
    "compressor = LLMChainExtractor.from_llm(llm)\n",
    "compression_retriever = ContextualCompressionRetriever(base_compressor=compressor, base_retriever=vectordb.as_retriever(search_kwargs={\"k\": 3}))"
   ]
  },
  {
   "cell_type": "code",
   "execution_count": 6,
   "metadata": {},
   "outputs": [
    {
     "name": "stderr",
     "output_type": "stream",
     "text": [
      "c:\\Users\\Aneel\\OneDrive\\Projects\\Python-projects\\Medbot\\medbot\\Lib\\site-packages\\langchain_core\\_api\\deprecation.py:139: LangChainDeprecationWarning: The method `BaseRetriever.get_relevant_documents` was deprecated in langchain-core 0.1.46 and will be removed in 0.3.0. Use invoke instead.\n",
      "  warn_deprecated(\n"
     ]
    },
    {
     "name": "stdout",
     "output_type": "stream",
     "text": [
      "You have 3 relevant docs\n",
      "organisms. It seems that the enzymes occurring in fresh\n",
      "fruit and vegetables encourage these beneficial organ-\n",
      "isms. One of the results of eating processed denatured\n",
      "foods is that this natural balance is upset, and food may\n",
      "begin to rot in the bowel instead of being processed.\n",
      "Decomposing matter can cause a toxic condition and\n",
      "may lead to many health problems, as constipation caus-\n",
      "es backed up pollution of the body cells. The process of\n",
      "repair and elimination of wastes enters a downward spi-\n",
      "ral which at best will cause fatigue, lack of energy and\n",
      "GALE ENCYCLOPEDIA OF MEDICINE 2 855Colonic irrigation\n",
      "\n",
      "\n",
      "Failure to thrive may also result from lack of avail-\n",
      "able food or the quality of the food offered. This can be\n",
      "due to economic factors in the family, parental beliefs and\n",
      "concepts of nutrition , or neglect of the child. In addition,\n",
      "if the baby is being breast fed, the quality or quantity of\n",
      "the mother’s milk may be the source of the problem.\n",
      "Psychosocial problems, often stemming from a lack\n",
      "of nurturing parent-child relations can lead to a failure to\n",
      "thrive. The child may exhibit poor appetite due to depres-\n",
      "sion from insufficient attention from parents.\n",
      "Infants and toddlers, whose growth is substantially\n",
      "less than expected, are considered to be suffering from\n",
      "FTT.\n",
      "Diagnosis\n",
      "Most babies are weighed at birth and that weight is\n",
      "used as a base line for future well-baby check-ups. If the\n",
      "baby is not gaining weight at a predictable rate, the doc-\n",
      "tor will do a more extensive examination. If there are no\n",
      "apparent physical deformities in the digestive tract, the\n",
      "doctor will examine the child’s environment. As part of\n",
      "that examination, the doctor will look at the family histo-\n",
      "ry of height and weight. In addition, the parents will be\n",
      "asked about feedings, illnesses, and family routines. If\n",
      "the mother is breastfeeding the doctor will also evaluate\n",
      "her diet, general health, and well being as it affects the\n",
      "quantity and quality of her milk.\n",
      "Diagnosis of FTT is confirmed by a positive growth\n",
      "and behavioral response to increased nutrition.\n",
      "Treatment\n",
      "If there is an underlying physical reason for failure\n",
      "to thrive, such as a disorder of swallowing mechanism or\n",
      "intestinal problems, correcting that problem should\n",
      "reverse the condition. If the condition is caused by envi-\n",
      "ronmental factors, the physician will suggest several\n",
      "ways parents may provide adequate food for the child.\n",
      "Maternal education and parental counseling may also be\n",
      "recommended. In extreme cases, hospitalization or a\n",
      "more nurturing home may be necessary.\n",
      "Prognosis\n",
      "The first year of life is important as a foundation for\n",
      "growth and physical and intellectual development in the\n",
      "future. Children with extreme failure to thrive in the first\n",
      "year may never catch up to their peers even if their physi-\n",
      "cal growth improves. In about one third of these extreme\n",
      "cases, mental development remains below normal and\n",
      "roughly half will continue to have psychosocial and eat-\n",
      "ing problems throughout life.KEY TERMS\n",
      "Esophagus —The muscular tube which connects\n",
      "the mouth and stomach.\n",
      "Psychosocial —A term referring to the mind’s abili-\n",
      "ty to, consciously or unconsciously, adjust and\n",
      "relate the body to its social environment.\n",
      "When failure to thrive is identified and corrected\n",
      "early, most children catch up to their peers and remain\n",
      "healthy and well developed.\n",
      "Prevention\n",
      "Initial failure to thrive caused by physical defects\n",
      "cannot be prevented but can often be corrected before\n",
      "they become a danger to the child. Maternal education\n",
      "and emotional and economic support systems all help to\n",
      "prevent failure to thrive in those cases where there is no\n",
      "physical deformity.\n",
      "Resources\n",
      "ORGANIZATIONS\n",
      "American Humane Association, Children’s Division. 63 Inver-\n",
      "ness Drive East, Englewood, CO 80112-5117. (800) 227-\n",
      "4645. <www.americanhumane.org>.\n",
      "Federation for Children With Special Needs. 1135 Tremont\n",
      "Street, Suite 420, Boston, MA 02120. (617) 236-7210.\n",
      "<http://www.fcsn.org>.\n",
      "National Digestive Diseases Information Clearinghouse. 2 Infor-\n",
      "mation Way, Bethesda, MD 20892-3570. (800) 891-5389.\n",
      "<http://www.niddk.nih.gov/health/digest/nddic. htm>.\n",
      "Dorothy Elinor Stonely\n",
      "Fainting\n",
      "Definition\n",
      "Fainting is loss of consciousness caused by a tempo-\n",
      "rary lack of oxygen to the brain. Known by the medical\n",
      "term “syncope,” fainting may be preceded by dizziness ,\n",
      "nausea, or a feeling of extreme weakness.\n",
      "Description\n",
      "When a person faints, the loss of consciousness is\n",
      "brief. The person will wake up as soon as normal blood\n",
      "flow is restored to the brain. Blood flow is usually\n",
      "GALE ENCYCLOPEDIA OF MEDICINE 2 1279Fainting\n",
      "\n",
      "\n",
      "Grandiose\n",
      "Individuals with grandiose delusional disorder have\n",
      "an over-inflated sense of self-worth. Their delusions cen-\n",
      "ter on their own importance, such as believing that they\n",
      "have done or created something of extreme value or have\n",
      "a “special mission.”\n",
      "Jealousy\n",
      "Jealous delusions are unjustified and irrational\n",
      "beliefs that an individual’s spouse or significant other has\n",
      "been unfaithful.\n",
      "Erotomanic\n",
      "Individuals with erotomanic delusional disorder\n",
      "believe that another person, often a stranger, is in love\n",
      "with them. The object of their affection is typically of a\n",
      "higher social status, sometimes a celebrity. This type of\n",
      "delusional disorder may lead to stalking or other poten-\n",
      "tially dangerous behavior.\n",
      "Somatic\n",
      "Somatic delusions involve the belief that something\n",
      "is physically wrong with the individual. The delusion\n",
      "may involve a medical condition or illness or a perceived\n",
      "deformity. This condition differs from hypochondriasis\n",
      "in that the deformity is perceived as a fixed condition not\n",
      "a temporary illness.\n",
      "Mixed\n",
      "Mixed delusions are those characterized by two or\n",
      "more of persecutory, grandiose, jealousy, erotomanic, or\n",
      "somatic themes.\n",
      "Causes and symptoms\n",
      "Some studies have indicated that delusions may be\n",
      "generated by abnormalities in the limbic system, the por-\n",
      "tion of the brain on the inner edge of the cerebral cortex\n",
      "that is believed to regulate emotions. The exact source of\n",
      "delusions has not been conclusively found, but potential\n",
      "causes include genetics, neurological abnormalities, and\n",
      "changes in brain chemistry. Delusions are also a known\n",
      "possible side effect of drug use and abuse (e.g., ampheta-\n",
      "mines, cocaine , PCP).\n",
      "Diagnosis\n",
      "Patients with delusional symptoms should undergo a\n",
      "thorough physical examination and patient history to\n",
      "rule out possible organic causes (such as dementia). If a\n",
      "psychological cause is suspected, a mental health profes-\n",
      "sional will typically conduct an interview with theKEY TERMS\n",
      "Hallucinations —False or distorted sensory experi-\n",
      "ences that appear to be real perceptions.\n",
      "Paranoia —An unfounded or exaggerated distrust\n",
      "of others.\n",
      "Shared psychotic disorder —Also known as folie à\n",
      "deux; shared psychotic disorder is an uncommon\n",
      "disorder in which the same delusion is shared by\n",
      "two or more individuals.\n",
      "patient and administer one of several clinical inventories,\n",
      "or tests, to evaluate mental status.\n",
      "Treatment\n",
      "Delusions that are symptomatic of delusional disor-\n",
      "der should be treated by a psychologist and/or psychia-\n",
      "trist. Though antipsychotic drugs are often not effec-\n",
      "tive, antipsychotic medication such as thioridazine (Mel-\n",
      "laril), haloperidol (Haldol), chlorpromazine (Thorazine),\n",
      "clozapine (Clozaril), or risperidone (Risperdal) may be\n",
      "prescribed, and cognitive therapy or psychotherapy may\n",
      "be attempted.\n",
      "If an underlying condition such as schizophrenia,\n",
      "depression, or drug abuse is found to be triggering the\n",
      "delusions, an appropriate course of medication and/or\n",
      "psychosocial therapy is employed to treat the primary\n",
      "disorder. The medication, typically, will include an\n",
      "antipsychotic agent.\n",
      "Prognosis\n",
      "Delusional disorder is typically a chronic condition,\n",
      "but with appropriate treatment, a remission of delusional\n",
      "symptoms occurs in up to 50% of patients. However,\n",
      "because of their strong belief in the reality of their delu-\n",
      "sions and a lack of insight into their condition, individuals\n",
      "with this disorder may never seek treatment, or may be\n",
      "resistant to exploring their condition in psychotherapy.\n",
      "Resources\n",
      "BOOKS\n",
      "American Psychiatric Association. Diagnostic and Statistical\n",
      "Manual of Mental Disorders. 4th ed. Washington, DC:\n",
      "American Psychiatric Press, Inc., 1994.\n",
      "Maxmen, Jerrold S., and Nicholas G. Ward. “Schizophrenia\n",
      "and Related Disorders.” In Essential Psychopathology and\n",
      "Its Treatment. 2nd ed. New York: W. W. Norton, 1995.\n",
      "Siegel, Ronald K. Whispers: The Voices of Paranoia. New\n",
      "York: Crown, 1994.\n",
      "GALE ENCYCLOPEDIA OF MEDICINE 2 1023Delusions\n",
      "\n",
      "\n"
     ]
    }
   ],
   "source": [
    "relevant_docs = compression_retriever.base_retriever.get_relevant_documents(\"What do people think is a flaw of capitalism?\")\n",
    "print (f\"You have {len(relevant_docs)} relevant docs\")\n",
    "for i in relevant_docs:\n",
    "    print (i.page_content + '\\n\\n')"
   ]
  },
  {
   "cell_type": "code",
   "execution_count": 7,
   "metadata": {},
   "outputs": [],
   "source": [
    "question = \"How to treat corneal ulcers?\"\n",
    "compressed_docs = compression_retriever.get_relevant_documents(question)\n"
   ]
  },
  {
   "cell_type": "code",
   "execution_count": 8,
   "metadata": {},
   "outputs": [],
   "source": [
    "prompt_template = \"\"\"\n",
    "Use the given information context to give appropriate answer for the user's question.\n",
    "If you don't know the answer, just say that you know the answer, but don't make up an answer.\n",
    "Context: {context}\n",
    "Question: {question}\n",
    "Only return the appropriate answer and nothing else.\n",
    "Helpful answer:\n",
    "\"\"\"\n",
    "\n",
    "prompt = PromptTemplate(\n",
    "    template=prompt_template, input_variables=[\"context\", \"question\"]\n",
    ")"
   ]
  },
  {
   "cell_type": "code",
   "execution_count": 9,
   "metadata": {},
   "outputs": [
    {
     "name": "stderr",
     "output_type": "stream",
     "text": [
      "c:\\Users\\Aneel\\OneDrive\\Projects\\Python-projects\\Medbot\\medbot\\Lib\\site-packages\\langchain_core\\_api\\deprecation.py:139: LangChainDeprecationWarning: The class `LLMChain` was deprecated in LangChain 0.1.17 and will be removed in 0.3.0. Use RunnableSequence, e.g., `prompt | llm` instead.\n",
      "  warn_deprecated(\n",
      "c:\\Users\\Aneel\\OneDrive\\Projects\\Python-projects\\Medbot\\medbot\\Lib\\site-packages\\langchain_core\\_api\\deprecation.py:139: LangChainDeprecationWarning: The method `Chain.run` was deprecated in langchain 0.1.0 and will be removed in 0.3.0. Use invoke instead.\n",
      "  warn_deprecated(\n"
     ]
    },
    {
     "name": "stdout",
     "output_type": "stream",
     "text": [
      "\n",
      "\n",
      "\u001b[1m> Entering new LLMChain chain...\u001b[0m\n",
      "Prompt after formatting:\n",
      "\u001b[32;1m\u001b[1;3m\n",
      "Use the given information context to give appropriate answer for the user's question.\n",
      "If you don't know the answer, just say that you know the answer, but don't make up an answer.\n",
      "Context: [Document(page_content='A corneal ulcer needs to be treated aggressively, as it\\ncan result in loss of vision. The first step is to eliminate\\ninfection. Broad spectrum antibiotics will be used\\nbefore the lab results come back. Medications may then\\nbe changed to more specifically target the cause of the\\ninfection. A combination of medications may be neces-\\nsary. Patients should return for their follow-up visits so\\nthat the doctor can monitor the healing process. The\\ncornea can heal from many insults, but if it remains\\nscarred, corneal transplantation may be necessary to\\nrestore vision. If the corneal ulcer is large, hospitaliza-\\ntion may be necessary.', metadata={'page': 310, 'source': 'docs\\\\medical_book.pdf'})]\n",
      "Question: How to treat corneal ulcers?\n",
      "Only return the appropriate answer and nothing else.\n",
      "Helpful answer:\n",
      "\u001b[0m\n",
      "\n",
      "\u001b[1m> Finished chain.\u001b[0m\n",
      "Eliminate infection using antibiotics and monitor the healing process.\n"
     ]
    }
   ],
   "source": [
    "chain = LLMChain(llm=llm, prompt=prompt, verbose=True)\n",
    "output = chain.run(context=compressed_docs, question=question)\n",
    "print(output)\n"
   ]
  }
 ],
 "metadata": {
  "kernelspec": {
   "display_name": "medbot",
   "language": "python",
   "name": "python3"
  },
  "language_info": {
   "codemirror_mode": {
    "name": "ipython",
    "version": 3
   },
   "file_extension": ".py",
   "mimetype": "text/x-python",
   "name": "python",
   "nbconvert_exporter": "python",
   "pygments_lexer": "ipython3",
   "version": "3.11.7"
  }
 },
 "nbformat": 4,
 "nbformat_minor": 2
}
